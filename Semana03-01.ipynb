{
 "cells": [
  {
   "cell_type": "markdown",
   "id": "98ae3944",
   "metadata": {},
   "source": [
    "# Semana 03\n",
    "Diego Alonso Laura Rodriguez\n"
   ]
  },
  {
   "cell_type": "markdown",
   "id": "40ec4afe",
   "metadata": {},
   "source": [
    "#Temas:\n",
    "    1. Numeros\n",
    "    2. Variables\n",
    "    3. Manejo de cadenas\n",
    "    4. Ingreso de datos por el teclado\n",
    "    5. Operaciones"
   ]
  },
  {
   "cell_type": "markdown",
   "id": "aabc3e47",
   "metadata": {},
   "source": [
    "1. Variables\n",
    "\n",
    "\n"
   ]
  },
  {
   "cell_type": "code",
   "execution_count": null,
   "id": "bbce67a2",
   "metadata": {},
   "outputs": [],
   "source": []
  }
 ],
 "metadata": {
  "kernelspec": {
   "display_name": "Python 3 (ipykernel)",
   "language": "python",
   "name": "python3"
  },
  "language_info": {
   "codemirror_mode": {
    "name": "ipython",
    "version": 3
   },
   "file_extension": ".py",
   "mimetype": "text/x-python",
   "name": "python",
   "nbconvert_exporter": "python",
   "pygments_lexer": "ipython3",
   "version": "3.9.12"
  }
 },
 "nbformat": 4,
 "nbformat_minor": 5
}
