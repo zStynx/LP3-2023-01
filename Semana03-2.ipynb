{
 "cells": [
  {
   "cell_type": "markdown",
   "id": "e13ebaa3",
   "metadata": {},
   "source": [
    "# Semana 03\n",
    "Diego Alonso Laura Rodriguez"
   ]
  },
  {
   "cell_type": "markdown",
   "id": "e9230274",
   "metadata": {},
   "source": [
    "2. Variables"
   ]
  },
  {
   "cell_type": "code",
   "execution_count": 3,
   "id": "02802d20",
   "metadata": {},
   "outputs": [],
   "source": [
    "edad=19"
   ]
  },
  {
   "cell_type": "code",
   "execution_count": 4,
   "id": "7a935d8b",
   "metadata": {},
   "outputs": [
    {
     "data": {
      "text/plain": [
       "19"
      ]
     },
     "execution_count": 4,
     "metadata": {},
     "output_type": "execute_result"
    }
   ],
   "source": [
    "edad"
   ]
  },
  {
   "cell_type": "code",
   "execution_count": 5,
   "id": "556f3bfb",
   "metadata": {},
   "outputs": [],
   "source": [
    "Nombre=\"Diego\""
   ]
  },
  {
   "cell_type": "code",
   "execution_count": 6,
   "id": "552f9b00",
   "metadata": {},
   "outputs": [
    {
     "data": {
      "text/plain": [
       "'Diego'"
      ]
     },
     "execution_count": 6,
     "metadata": {},
     "output_type": "execute_result"
    }
   ],
   "source": [
    "Nombre\n"
   ]
  },
  {
   "cell_type": "code",
   "execution_count": 7,
   "id": "4c58c357",
   "metadata": {},
   "outputs": [],
   "source": [
    "Apellido=\"Laura Rodriguez\""
   ]
  },
  {
   "cell_type": "code",
   "execution_count": 8,
   "id": "9bf1962c",
   "metadata": {},
   "outputs": [
    {
     "data": {
      "text/plain": [
       "'Laura Rodriguez'"
      ]
     },
     "execution_count": 8,
     "metadata": {},
     "output_type": "execute_result"
    }
   ],
   "source": [
    "Apellido"
   ]
  },
  {
   "cell_type": "code",
   "execution_count": 9,
   "id": "ee466955",
   "metadata": {},
   "outputs": [],
   "source": [
    "NombreCompleto=Nombre+Apellido"
   ]
  },
  {
   "cell_type": "code",
   "execution_count": 10,
   "id": "fa863938",
   "metadata": {},
   "outputs": [
    {
     "data": {
      "text/plain": [
       "'DiegoLaura Rodriguez'"
      ]
     },
     "execution_count": 10,
     "metadata": {},
     "output_type": "execute_result"
    }
   ],
   "source": [
    "NombreCompleto"
   ]
  },
  {
   "cell_type": "code",
   "execution_count": 12,
   "id": "207a3a03",
   "metadata": {},
   "outputs": [],
   "source": [
    "#para cada tipo de variable usamos type\n",
    "numero=50"
   ]
  },
  {
   "cell_type": "code",
   "execution_count": 13,
   "id": "2cc22261",
   "metadata": {},
   "outputs": [
    {
     "data": {
      "text/plain": [
       "int"
      ]
     },
     "execution_count": 13,
     "metadata": {},
     "output_type": "execute_result"
    }
   ],
   "source": [
    "type(numero)"
   ]
  },
  {
   "cell_type": "code",
   "execution_count": 14,
   "id": "bc6d5d47",
   "metadata": {},
   "outputs": [],
   "source": [
    "talla=1.56"
   ]
  },
  {
   "cell_type": "code",
   "execution_count": 15,
   "id": "316a21a1",
   "metadata": {},
   "outputs": [
    {
     "data": {
      "text/plain": [
       "float"
      ]
     },
     "execution_count": 15,
     "metadata": {},
     "output_type": "execute_result"
    }
   ],
   "source": [
    "type(talla)"
   ]
  },
  {
   "cell_type": "code",
   "execution_count": 18,
   "id": "5923ec92",
   "metadata": {},
   "outputs": [
    {
     "data": {
      "text/plain": [
       "'100'"
      ]
     },
     "execution_count": 18,
     "metadata": {},
     "output_type": "execute_result"
    }
   ],
   "source": [
    "#para convertir un numero en cadena usamos str()\n",
    "cadena=100\n",
    "cadena=str(cadena)\n",
    "cadena"
   ]
  },
  {
   "cell_type": "code",
   "execution_count": 19,
   "id": "85edc224",
   "metadata": {},
   "outputs": [
    {
     "data": {
      "text/plain": [
       "100.0"
      ]
     },
     "execution_count": 19,
     "metadata": {},
     "output_type": "execute_result"
    }
   ],
   "source": [
    "#para convertir cadena a decimal\n",
    "cadena=\"100\"\n",
    "cadena= float(cadena)\n",
    "cadena"
   ]
  },
  {
   "cell_type": "code",
   "execution_count": 20,
   "id": "9eb95e17",
   "metadata": {},
   "outputs": [
    {
     "data": {
      "text/plain": [
       "float"
      ]
     },
     "execution_count": 20,
     "metadata": {},
     "output_type": "execute_result"
    }
   ],
   "source": [
    "type(cadena)"
   ]
  },
  {
   "cell_type": "code",
   "execution_count": null,
   "id": "72fdd0d0",
   "metadata": {},
   "outputs": [],
   "source": []
  }
 ],
 "metadata": {
  "kernelspec": {
   "display_name": "Python 3 (ipykernel)",
   "language": "python",
   "name": "python3"
  },
  "language_info": {
   "codemirror_mode": {
    "name": "ipython",
    "version": 3
   },
   "file_extension": ".py",
   "mimetype": "text/x-python",
   "name": "python",
   "nbconvert_exporter": "python",
   "pygments_lexer": "ipython3",
   "version": "3.9.12"
  }
 },
 "nbformat": 4,
 "nbformat_minor": 5
}
